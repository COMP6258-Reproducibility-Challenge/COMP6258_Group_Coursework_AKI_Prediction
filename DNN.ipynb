{
 "cells": [
  {
   "cell_type": "code",
   "execution_count": 2,
   "id": "8187134b-208e-464c-b83c-548feed3300d",
   "metadata": {
    "ExecuteTime": {
     "end_time": "2024-05-16T10:44:05.680685200Z",
     "start_time": "2024-05-16T10:44:05.672656500Z"
    }
   },
   "outputs": [],
   "source": [
    "import pandas as pd\n",
    "from sklearn.model_selection import train_test_split\n",
    "from sklearn.preprocessing import StandardScaler\n",
    "import torch\n",
    "import torch.nn as nn\n",
    "import torch.optim as optim\n",
    "from torch.utils.data import DataLoader, TensorDataset\n",
    "import torch.nn.functional as F\n",
    "import torch\n",
    "import torch.nn as nn\n",
    "import torch.optim as optim\n",
    "from sklearn.model_selection import train_test_split\n",
    "from sklearn.preprocessing import StandardScaler\n",
    "from sklearn.metrics import accuracy_score, f1_score, roc_auc_score"
   ]
  },
  {
   "cell_type": "code",
   "execution_count": 3,
   "id": "bc775f2a-348c-4788-814e-790c7396895e",
   "metadata": {
    "ExecuteTime": {
     "end_time": "2024-05-16T10:44:13.396756400Z",
     "start_time": "2024-05-16T10:44:13.349160600Z"
    }
   },
   "outputs": [
    {
     "name": "stdout",
     "output_type": "stream",
     "text": [
      "   weight  aki_stage  delay_rrt  gender  admission_age  ethnicity  \\\n",
      "0  104.50          1          1       1      66.262081          0   \n",
      "1  100.00          1          1       1      70.489938          0   \n",
      "2   98.95          3          0       1      37.700917          0   \n",
      "3  105.70          3          1       0      59.967156          1   \n",
      "4   69.00          1          0       1      79.060470          1   \n",
      "\n",
      "   hematocrit_min  hematocrit_max  hemoglobin_min  hemoglobin_max  ...  \\\n",
      "0            31.4            31.9            11.3            11.3  ...   \n",
      "1            34.0            34.2            11.3            11.4  ...   \n",
      "2            27.1            29.4             9.9            10.4  ...   \n",
      "3            25.0            30.9             8.1            10.1  ...   \n",
      "4            38.0            38.0            13.2            13.2  ...   \n",
      "\n",
      "   ptt_max  heart_rate_mean    sbp_mean  dbp_mean   mbp_mean  resp_rate_mean  \\\n",
      "0     47.5        89.625000  132.500000   68.5000  83.090909       21.673077   \n",
      "1     25.0        84.208333  107.500000   56.4600  74.019231       17.134615   \n",
      "2     36.0        80.956522  101.958333   52.4375  67.541667       20.000000   \n",
      "3     51.3        87.521739  108.000000   56.4000  70.700000       24.086957   \n",
      "4     35.6        90.318182  140.800000   71.8500  88.285714       21.000000   \n",
      "\n",
      "   temperature_mean  spo2_mean  glucose_mean  gcs_min  \n",
      "0         37.405000  96.909091    257.500000       10  \n",
      "1         36.978000  96.680000    123.666667        3  \n",
      "2         36.132143  95.250000    152.625000        6  \n",
      "3         36.776667  96.478261    102.714286       13  \n",
      "4         36.620000  95.782609    124.000000       15  \n",
      "\n",
      "[5 rows x 44 columns]\n",
      "<class 'pandas.core.frame.DataFrame'>\n",
      "RangeIndex: 1786 entries, 0 to 1785\n",
      "Data columns (total 44 columns):\n",
      " #   Column            Non-Null Count  Dtype  \n",
      "---  ------            --------------  -----  \n",
      " 0   weight            1786 non-null   float64\n",
      " 1   aki_stage         1786 non-null   int64  \n",
      " 2   delay_rrt         1786 non-null   int64  \n",
      " 3   gender            1786 non-null   int64  \n",
      " 4   admission_age     1786 non-null   float64\n",
      " 5   ethnicity         1786 non-null   int64  \n",
      " 6   hematocrit_min    1786 non-null   float64\n",
      " 7   hematocrit_max    1786 non-null   float64\n",
      " 8   hemoglobin_min    1786 non-null   float64\n",
      " 9   hemoglobin_max    1786 non-null   float64\n",
      " 10  platelets_min     1786 non-null   float64\n",
      " 11  platelets_max     1786 non-null   float64\n",
      " 12  wbc_min           1786 non-null   float64\n",
      " 13  wbc_max           1786 non-null   float64\n",
      " 14  aniongap_min      1786 non-null   float64\n",
      " 15  aniongap_max      1786 non-null   float64\n",
      " 16  bicarbonate_min   1786 non-null   float64\n",
      " 17  bicarbonate_max   1786 non-null   float64\n",
      " 18  bun_min           1786 non-null   float64\n",
      " 19  bun_max           1786 non-null   float64\n",
      " 20  calcium_min       1786 non-null   float64\n",
      " 21  calcium_max       1786 non-null   float64\n",
      " 22  chloride_min      1786 non-null   float64\n",
      " 23  chloride_max      1786 non-null   float64\n",
      " 24  creatinine_min    1786 non-null   float64\n",
      " 25  creatinine_max    1786 non-null   float64\n",
      " 26  glucose_min       1786 non-null   float64\n",
      " 27  glucose_max       1786 non-null   float64\n",
      " 28  sodium_min        1786 non-null   float64\n",
      " 29  sodium_max        1786 non-null   float64\n",
      " 30  potassium_min     1786 non-null   float64\n",
      " 31  potassium_max     1786 non-null   float64\n",
      " 32  inr_max           1786 non-null   float64\n",
      " 33  pt_max            1786 non-null   float64\n",
      " 34  ptt_max           1786 non-null   float64\n",
      " 35  heart_rate_mean   1786 non-null   float64\n",
      " 36  sbp_mean          1786 non-null   float64\n",
      " 37  dbp_mean          1786 non-null   float64\n",
      " 38  mbp_mean          1786 non-null   float64\n",
      " 39  resp_rate_mean    1786 non-null   float64\n",
      " 40  temperature_mean  1786 non-null   float64\n",
      " 41  spo2_mean         1786 non-null   float64\n",
      " 42  glucose_mean      1786 non-null   float64\n",
      " 43  gcs_min           1786 non-null   int64  \n",
      "dtypes: float64(39), int64(5)\n",
      "memory usage: 614.1 KB\n",
      "None\n"
     ]
    }
   ],
   "source": [
    "data = pd.read_csv('cleaned_data1.csv')\n",
    "print(data.head())\n",
    "print(data.info())"
   ]
  },
  {
   "cell_type": "code",
   "execution_count": 4,
   "id": "6959de87-3ab2-4637-b8bd-774ab2b94d5d",
   "metadata": {
    "ExecuteTime": {
     "end_time": "2024-05-16T10:44:17.931560200Z",
     "start_time": "2024-05-16T10:44:17.923543Z"
    }
   },
   "outputs": [],
   "source": [
    "# Data preprocessing\n",
    "X = data.drop('aki_stage', axis=1).values\n",
    "y = data['aki_stage'].values\n",
    "\n",
    "scaler = StandardScaler()\n",
    "X = scaler.fit_transform(X)\n",
    "y = data['aki_stage'].values - 1"
   ]
  },
  {
   "cell_type": "code",
   "execution_count": 5,
   "id": "6e6c2530-0a10-47bd-a737-07d3b22f5257",
   "metadata": {
    "ExecuteTime": {
     "end_time": "2024-05-16T10:44:20.228730400Z",
     "start_time": "2024-05-16T10:44:20.209686100Z"
    }
   },
   "outputs": [],
   "source": [
    "# Separate training set and test set\n",
    "X_train, X_test, y_train, y_test = train_test_split(X, y, test_size=0.2, random_state=42)\n",
    "\n",
    "X_train = torch.tensor(X_train, dtype=torch.float32)\n",
    "X_test = torch.tensor(X_test, dtype=torch.float32)\n",
    "y_train = torch.tensor(y_train, dtype=torch.long)\n",
    "y_test = torch.tensor(y_test, dtype=torch.long)"
   ]
  },
  {
   "cell_type": "code",
   "execution_count": 61,
   "id": "725cf295-e92e-4841-919e-a773baf513fe",
   "metadata": {
    "ExecuteTime": {
     "end_time": "2024-05-16T11:04:07.475081300Z",
     "start_time": "2024-05-16T11:04:07.468899100Z"
    }
   },
   "outputs": [],
   "source": [
    "class DNN(nn.Module):\n",
    "    def __init__(self, input_dim):\n",
    "        super(DNN, self).__init__()\n",
    "        self.fc1 = nn.Linear(input_dim, 128)\n",
    "        self.bn1 = nn.BatchNorm1d(128)\n",
    "        self.fc2 = nn.Linear(128, 128)\n",
    "        self.bn2 = nn.BatchNorm1d(128)\n",
    "        self.fc3 = nn.Linear(128, 3)\n",
    "        self.dropout = nn.Dropout(0.5)\n",
    "\n",
    "\n",
    "\n",
    "    def forward(self, x):\n",
    "        x = torch.relu(self.bn1(self.fc1(x)))\n",
    "        x = self.dropout(x)\n",
    "        x = torch.relu(self.bn2(self.fc2(x)))\n",
    "        x = self.dropout(x)\n",
    "        x = self.fc3(x)\n",
    "        return x\n",
    "\n"
   ]
  },
  {
   "cell_type": "code",
   "execution_count": 62,
   "outputs": [],
   "source": [
    "model = DNN(input_dim=X_train.shape[1])\n",
    "criterion = nn.CrossEntropyLoss()\n",
    "optimizer = optim.AdamW(model.parameters(), lr=0.001)\n",
    "scheduler = optim.lr_scheduler.StepLR(optimizer, step_size=30, gamma=0.1)"
   ],
   "metadata": {
    "collapsed": false,
    "ExecuteTime": {
     "end_time": "2024-05-16T11:04:07.957871100Z",
     "start_time": "2024-05-16T11:04:07.947459100Z"
    }
   }
  },
  {
   "cell_type": "code",
   "execution_count": 63,
   "id": "c5a1401a-c8e4-48ac-b929-fa0aa9cd012d",
   "metadata": {
    "ExecuteTime": {
     "end_time": "2024-05-16T11:04:09.127303500Z",
     "start_time": "2024-05-16T11:04:08.284603100Z"
    }
   },
   "outputs": [
    {
     "name": "stdout",
     "output_type": "stream",
     "text": [
      "Epoch [1/100], Accuracy: 0.1955, F1 Score: 0.0733, AUC: 0.5425\n",
      "Epoch [2/100], Accuracy: 0.2235, F1 Score: 0.1434, AUC: 0.5480\n",
      "Epoch [3/100], Accuracy: 0.3352, F1 Score: 0.3290, AUC: 0.5510\n",
      "Epoch [4/100], Accuracy: 0.4358, F1 Score: 0.4525, AUC: 0.5551\n",
      "Epoch [5/100], Accuracy: 0.5196, F1 Score: 0.5231, AUC: 0.5552\n",
      "Epoch [6/100], Accuracy: 0.5782, F1 Score: 0.5624, AUC: 0.5521\n",
      "Epoch [7/100], Accuracy: 0.6257, F1 Score: 0.5878, AUC: 0.5499\n",
      "Epoch [8/100], Accuracy: 0.6425, F1 Score: 0.5956, AUC: 0.5476\n",
      "Epoch [9/100], Accuracy: 0.6648, F1 Score: 0.6071, AUC: 0.5463\n",
      "Epoch [10/100], Accuracy: 0.6676, F1 Score: 0.6033, AUC: 0.5445\n",
      "Epoch [11/100], Accuracy: 0.6704, F1 Score: 0.6001, AUC: 0.5431\n",
      "Epoch [12/100], Accuracy: 0.6788, F1 Score: 0.5992, AUC: 0.5427\n",
      "Epoch [13/100], Accuracy: 0.6872, F1 Score: 0.6013, AUC: 0.5426\n",
      "Epoch [14/100], Accuracy: 0.6872, F1 Score: 0.6013, AUC: 0.5427\n",
      "Epoch [15/100], Accuracy: 0.6872, F1 Score: 0.5979, AUC: 0.5431\n",
      "Epoch [16/100], Accuracy: 0.6872, F1 Score: 0.5979, AUC: 0.5443\n",
      "Epoch [17/100], Accuracy: 0.6899, F1 Score: 0.5995, AUC: 0.5449\n",
      "Epoch [18/100], Accuracy: 0.6927, F1 Score: 0.6012, AUC: 0.5447\n",
      "Epoch [19/100], Accuracy: 0.6955, F1 Score: 0.6029, AUC: 0.5445\n",
      "Epoch [20/100], Accuracy: 0.6983, F1 Score: 0.6046, AUC: 0.5452\n",
      "Epoch [21/100], Accuracy: 0.6955, F1 Score: 0.6029, AUC: 0.5465\n",
      "Epoch [22/100], Accuracy: 0.6955, F1 Score: 0.6029, AUC: 0.5472\n",
      "Epoch [23/100], Accuracy: 0.6955, F1 Score: 0.5992, AUC: 0.5472\n",
      "Epoch [24/100], Accuracy: 0.7011, F1 Score: 0.5984, AUC: 0.5473\n",
      "Epoch [25/100], Accuracy: 0.6983, F1 Score: 0.5926, AUC: 0.5479\n",
      "Epoch [26/100], Accuracy: 0.6955, F1 Score: 0.5911, AUC: 0.5482\n",
      "Epoch [27/100], Accuracy: 0.6955, F1 Score: 0.5911, AUC: 0.5483\n",
      "Epoch [28/100], Accuracy: 0.6955, F1 Score: 0.5911, AUC: 0.5493\n",
      "Epoch [29/100], Accuracy: 0.6955, F1 Score: 0.5911, AUC: 0.5500\n",
      "Epoch [30/100], Accuracy: 0.6983, F1 Score: 0.5969, AUC: 0.5500\n",
      "Epoch [31/100], Accuracy: 0.6983, F1 Score: 0.5969, AUC: 0.5491\n",
      "Epoch [32/100], Accuracy: 0.6983, F1 Score: 0.5926, AUC: 0.5488\n",
      "Epoch [33/100], Accuracy: 0.7039, F1 Score: 0.5957, AUC: 0.5482\n",
      "Epoch [34/100], Accuracy: 0.7067, F1 Score: 0.5972, AUC: 0.5477\n",
      "Epoch [35/100], Accuracy: 0.7123, F1 Score: 0.6002, AUC: 0.5472\n",
      "Epoch [36/100], Accuracy: 0.7123, F1 Score: 0.6002, AUC: 0.5468\n",
      "Epoch [37/100], Accuracy: 0.7123, F1 Score: 0.6002, AUC: 0.5462\n",
      "Epoch [38/100], Accuracy: 0.7123, F1 Score: 0.6002, AUC: 0.5457\n",
      "Epoch [39/100], Accuracy: 0.7123, F1 Score: 0.6002, AUC: 0.5455\n",
      "Epoch [40/100], Accuracy: 0.7123, F1 Score: 0.6002, AUC: 0.5454\n",
      "Epoch [41/100], Accuracy: 0.7123, F1 Score: 0.6002, AUC: 0.5454\n",
      "Epoch [42/100], Accuracy: 0.7123, F1 Score: 0.6002, AUC: 0.5452\n",
      "Epoch [43/100], Accuracy: 0.7123, F1 Score: 0.6002, AUC: 0.5450\n",
      "Epoch [44/100], Accuracy: 0.7123, F1 Score: 0.6002, AUC: 0.5446\n",
      "Epoch [45/100], Accuracy: 0.7123, F1 Score: 0.6002, AUC: 0.5442\n",
      "Epoch [46/100], Accuracy: 0.7123, F1 Score: 0.6002, AUC: 0.5440\n",
      "Epoch [47/100], Accuracy: 0.7123, F1 Score: 0.6002, AUC: 0.5441\n",
      "Epoch [48/100], Accuracy: 0.7123, F1 Score: 0.6002, AUC: 0.5439\n",
      "Epoch [49/100], Accuracy: 0.7123, F1 Score: 0.6002, AUC: 0.5438\n",
      "Epoch [50/100], Accuracy: 0.7123, F1 Score: 0.6002, AUC: 0.5440\n",
      "Epoch [51/100], Accuracy: 0.7123, F1 Score: 0.6002, AUC: 0.5438\n",
      "Epoch [52/100], Accuracy: 0.7123, F1 Score: 0.6002, AUC: 0.5437\n",
      "Epoch [53/100], Accuracy: 0.7123, F1 Score: 0.6002, AUC: 0.5435\n",
      "Epoch [54/100], Accuracy: 0.7123, F1 Score: 0.6002, AUC: 0.5436\n",
      "Epoch [55/100], Accuracy: 0.7123, F1 Score: 0.6002, AUC: 0.5436\n",
      "Epoch [56/100], Accuracy: 0.7123, F1 Score: 0.6002, AUC: 0.5436\n",
      "Epoch [57/100], Accuracy: 0.7123, F1 Score: 0.6002, AUC: 0.5432\n",
      "Epoch [58/100], Accuracy: 0.7123, F1 Score: 0.6002, AUC: 0.5433\n",
      "Epoch [59/100], Accuracy: 0.7095, F1 Score: 0.5987, AUC: 0.5432\n",
      "Epoch [60/100], Accuracy: 0.7095, F1 Score: 0.5987, AUC: 0.5430\n",
      "Epoch [61/100], Accuracy: 0.7095, F1 Score: 0.5987, AUC: 0.5430\n",
      "Epoch [62/100], Accuracy: 0.7095, F1 Score: 0.5987, AUC: 0.5429\n",
      "Epoch [63/100], Accuracy: 0.7095, F1 Score: 0.5987, AUC: 0.5431\n",
      "Epoch [64/100], Accuracy: 0.7123, F1 Score: 0.6002, AUC: 0.5428\n",
      "Epoch [65/100], Accuracy: 0.7123, F1 Score: 0.6002, AUC: 0.5427\n",
      "Epoch [66/100], Accuracy: 0.7123, F1 Score: 0.6002, AUC: 0.5424\n",
      "Epoch [67/100], Accuracy: 0.7123, F1 Score: 0.6002, AUC: 0.5426\n",
      "Epoch [68/100], Accuracy: 0.7123, F1 Score: 0.6002, AUC: 0.5425\n",
      "Epoch [69/100], Accuracy: 0.7095, F1 Score: 0.5987, AUC: 0.5427\n",
      "Epoch [70/100], Accuracy: 0.7095, F1 Score: 0.5987, AUC: 0.5424\n",
      "Epoch [71/100], Accuracy: 0.7123, F1 Score: 0.6002, AUC: 0.5424\n",
      "Epoch [72/100], Accuracy: 0.7123, F1 Score: 0.6002, AUC: 0.5424\n",
      "Epoch [73/100], Accuracy: 0.7095, F1 Score: 0.5987, AUC: 0.5426\n",
      "Epoch [74/100], Accuracy: 0.7123, F1 Score: 0.6002, AUC: 0.5425\n",
      "Epoch [75/100], Accuracy: 0.7095, F1 Score: 0.5987, AUC: 0.5425\n",
      "Epoch [76/100], Accuracy: 0.7095, F1 Score: 0.5987, AUC: 0.5426\n",
      "Epoch [77/100], Accuracy: 0.7095, F1 Score: 0.5987, AUC: 0.5427\n",
      "Epoch [78/100], Accuracy: 0.7123, F1 Score: 0.6002, AUC: 0.5425\n",
      "Epoch [79/100], Accuracy: 0.7123, F1 Score: 0.6002, AUC: 0.5426\n",
      "Epoch [80/100], Accuracy: 0.7123, F1 Score: 0.6002, AUC: 0.5426\n",
      "Epoch [81/100], Accuracy: 0.7123, F1 Score: 0.6002, AUC: 0.5428\n",
      "Epoch [82/100], Accuracy: 0.7095, F1 Score: 0.5987, AUC: 0.5427\n",
      "Epoch [83/100], Accuracy: 0.7095, F1 Score: 0.5987, AUC: 0.5428\n",
      "Epoch [84/100], Accuracy: 0.7095, F1 Score: 0.5987, AUC: 0.5428\n",
      "Epoch [85/100], Accuracy: 0.7095, F1 Score: 0.5987, AUC: 0.5426\n",
      "Epoch [86/100], Accuracy: 0.7095, F1 Score: 0.5987, AUC: 0.5425\n",
      "Epoch [87/100], Accuracy: 0.7095, F1 Score: 0.5987, AUC: 0.5425\n",
      "Epoch [88/100], Accuracy: 0.7095, F1 Score: 0.5987, AUC: 0.5425\n",
      "Epoch [89/100], Accuracy: 0.7095, F1 Score: 0.5987, AUC: 0.5427\n",
      "Epoch [90/100], Accuracy: 0.7095, F1 Score: 0.5987, AUC: 0.5428\n",
      "Epoch [91/100], Accuracy: 0.7095, F1 Score: 0.5987, AUC: 0.5425\n",
      "Epoch [92/100], Accuracy: 0.7095, F1 Score: 0.5987, AUC: 0.5428\n",
      "Epoch [93/100], Accuracy: 0.7095, F1 Score: 0.5987, AUC: 0.5427\n",
      "Epoch [94/100], Accuracy: 0.7095, F1 Score: 0.5987, AUC: 0.5428\n",
      "Epoch [95/100], Accuracy: 0.7095, F1 Score: 0.5987, AUC: 0.5428\n",
      "Epoch [96/100], Accuracy: 0.7095, F1 Score: 0.5987, AUC: 0.5429\n",
      "Epoch [97/100], Accuracy: 0.7095, F1 Score: 0.5987, AUC: 0.5429\n",
      "Epoch [98/100], Accuracy: 0.7095, F1 Score: 0.5987, AUC: 0.5429\n",
      "Epoch [99/100], Accuracy: 0.7095, F1 Score: 0.5987, AUC: 0.5430\n",
      "Epoch [100/100], Accuracy: 0.7095, F1 Score: 0.5987, AUC: 0.5430\n"
     ]
    }
   ],
   "source": [
    "# Training model\n",
    "num_epochs = 100\n",
    "for epoch in range(num_epochs):\n",
    "    model.train()\n",
    "    optimizer.zero_grad()\n",
    "    outputs = model(X_train)\n",
    "    loss = criterion(outputs, y_train)\n",
    "    loss.backward()\n",
    "    optimizer.step()\n",
    "    scheduler.step()\n",
    "    \n",
    "    model.eval()\n",
    "    with torch.no_grad():\n",
    "        outputs = model(X_test)\n",
    "        _, predicted = torch.max(outputs.data, 1)\n",
    "        accuracy = accuracy_score(y_test, predicted)\n",
    "        f1 = f1_score(y_test, predicted, average='weighted')\n",
    "        \n",
    "        # 计算AUC\n",
    "        probabilities = torch.softmax(outputs, dim=1).cpu().numpy()\n",
    "        auc = roc_auc_score(y_test.cpu().numpy(), probabilities, multi_class='ovr')\n",
    "    \n",
    "    print(f'Epoch [{epoch+1}/{num_epochs}], Accuracy: {accuracy:.4f}, F1 Score: {f1:.4f}, AUC: {auc:.4f}')"
   ]
  },
  {
   "cell_type": "code",
   "execution_count": 64,
   "id": "f1411b7e-aa23-49c7-a632-9bee045f32fc",
   "metadata": {
    "ExecuteTime": {
     "end_time": "2024-05-16T11:04:15.183701400Z",
     "start_time": "2024-05-16T11:04:15.171574500Z"
    }
   },
   "outputs": [
    {
     "name": "stdout",
     "output_type": "stream",
     "text": [
      "Final Accuracy: 0.7095\n",
      "Final F1 Score: 0.5987\n",
      "Final AUC: 0.5430\n"
     ]
    }
   ],
   "source": [
    "# evaluation model\n",
    "model.eval()\n",
    "with torch.no_grad():\n",
    "    outputs = model(X_test)\n",
    "    _, predicted = torch.max(outputs.data, 1)\n",
    "    accuracy = accuracy_score(y_test, predicted)\n",
    "    f1 = f1_score(y_test, predicted, average='weighted')\n",
    "    \n",
    "    # 计算最终的AUC\n",
    "    probabilities = torch.softmax(outputs, dim=1).cpu().numpy()\n",
    "    auc = roc_auc_score(y_test.cpu().numpy(), probabilities, multi_class='ovr')\n",
    "\n",
    "    print(f'Final Accuracy: {accuracy:.4f}')\n",
    "    print(f'Final F1 Score: {f1:.4f}')\n",
    "    print(f'Final AUC: {auc:.4f}')"
   ]
  },
  {
   "cell_type": "code",
   "execution_count": null,
   "id": "bfdd33a4-8678-41e7-9726-3d5eb7a5bbdd",
   "metadata": {},
   "outputs": [],
   "source": []
  }
 ],
 "metadata": {
  "kernelspec": {
   "display_name": "Python 3 (ipykernel)",
   "language": "python",
   "name": "python3"
  },
  "language_info": {
   "codemirror_mode": {
    "name": "ipython",
    "version": 3
   },
   "file_extension": ".py",
   "mimetype": "text/x-python",
   "name": "python",
   "nbconvert_exporter": "python",
   "pygments_lexer": "ipython3",
   "version": "3.11.5"
  }
 },
 "nbformat": 4,
 "nbformat_minor": 5
}
